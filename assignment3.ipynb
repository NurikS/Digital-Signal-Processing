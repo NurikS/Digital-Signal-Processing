{
 "cells": [
  {
   "cell_type": "code",
   "execution_count": 161,
   "metadata": {},
   "outputs": [],
   "source": [
    "import numpy as np\n",
    "from control import *\n",
    "import matplotlib.pyplot as plt\n",
    "import sympy as sp \n",
    "from  matplotlib import patches\n",
    "from matplotlib.figure import Figure\n",
    "from matplotlib import rcParams"
   ]
  },
  {
   "cell_type": "code",
   "execution_count": 162,
   "metadata": {},
   "outputs": [],
   "source": [
    "def zplane(b,a,filename=None):\n",
    "    \"\"\"Plot the complex z-plane given a transfer function.\n",
    "    \"\"\"\n",
    "\n",
    "    # get a figure/plot\n",
    "    ax = plt.subplot(111)\n",
    "\n",
    "    # create the unit circle\n",
    "    uc = patches.Circle((0,0), radius=1, fill=False,\n",
    "                        color='black', ls='dashed')\n",
    "    ax.add_patch(uc)\n",
    "\n",
    "    # The coefficients are less than 1, normalize the coeficients\n",
    "    if np.max(b) > 1:\n",
    "        kn = np.max(b)\n",
    "        b = b/float(kn)\n",
    "    else:\n",
    "        kn = 1\n",
    "\n",
    "    if np.max(a) > 1:\n",
    "        kd = np.max(a)\n",
    "        a = a/float(kd)\n",
    "    else:\n",
    "        kd = 1\n",
    "        \n",
    "    # Get the poles and zeros\n",
    "    p = np.roots(a)\n",
    "    z = np.roots(b)\n",
    "    k = kn/float(kd)\n",
    "    \n",
    "    # Plot the zeros and set marker properties    \n",
    "    t1 = plt.plot(z.real, z.imag, 'go', ms=10)\n",
    "    plt.setp( t1, markersize=10.0, markeredgewidth=1.0,\n",
    "              markeredgecolor='k', markerfacecolor='g')\n",
    "\n",
    "    # Plot the poles and set marker properties\n",
    "    t2 = plt.plot(p.real, p.imag, 'rx', ms=10)\n",
    "    plt.setp( t2, markersize=12.0, markeredgewidth=3.0,\n",
    "              markeredgecolor='r', markerfacecolor='r')\n",
    "\n",
    "    ax.spines['left'].set_position('center')\n",
    "    ax.spines['bottom'].set_position('center')\n",
    "    ax.spines['right'].set_visible(False)\n",
    "    ax.spines['top'].set_visible(False)\n",
    "\n",
    "    # set the ticks\n",
    "    r = 1.5; plt.axis('scaled'); plt.axis([-r, r, -r, r])\n",
    "    ticks = [-1, -.5, .5, 1]; plt.xticks(ticks); plt.yticks(ticks)\n",
    "\n",
    "    if filename is None:\n",
    "        plt.show()\n",
    "    else:\n",
    "        plt.savefig(filename)\n",
    "    \n",
    "\n",
    "    return z, p, k"
   ]
  },
  {
   "cell_type": "code",
   "execution_count": 163,
   "metadata": {},
   "outputs": [],
   "source": [
    "OpenLoop = TransferFunction([20], [1, 5, 0, 0])"
   ]
  },
  {
   "cell_type": "code",
   "execution_count": 164,
   "metadata": {},
   "outputs": [
    {
     "data": {
      "text/latex": [
       "$$\\frac{20}{s^3 + 5 s^2}$$"
      ],
      "text/plain": [
       "TransferFunction(array([20]), array([1, 5, 0, 0]))"
      ]
     },
     "execution_count": 164,
     "metadata": {},
     "output_type": "execute_result"
    }
   ],
   "source": [
    "OpenLoop"
   ]
  },
  {
   "cell_type": "code",
   "execution_count": 165,
   "metadata": {},
   "outputs": [],
   "source": [
    "LeadCompensator = TransferFunction([0.8, 0.8], [0.0625, 1])"
   ]
  },
  {
   "cell_type": "code",
   "execution_count": 166,
   "metadata": {},
   "outputs": [
    {
     "data": {
      "text/latex": [
       "$$\\frac{0.8 s + 0.8}{0.0625 s + 1}$$"
      ],
      "text/plain": [
       "TransferFunction(array([0.8, 0.8]), array([0.0625, 1.    ]))"
      ]
     },
     "execution_count": 166,
     "metadata": {},
     "output_type": "execute_result"
    }
   ],
   "source": [
    "LeadCompensator"
   ]
  },
  {
   "cell_type": "code",
   "execution_count": 167,
   "metadata": {},
   "outputs": [],
   "source": [
    "z_OpenLoop = c2d(OpenLoop, Ts=0.1)"
   ]
  },
  {
   "cell_type": "code",
   "execution_count": 168,
   "metadata": {},
   "outputs": [
    {
     "data": {
      "text/latex": [
       "$$\\frac{0.002955 z^2 + 0.01048 z + 0.002302}{z^3 - 2.607 z^2 + 2.213 z - 0.6065}\\quad dt = 0.1$$"
      ],
      "text/plain": [
       "TransferFunction(array([0.00295509, 0.01048165, 0.00230203]), array([ 1.        , -2.60653066,  2.21306132, -0.60653066]), 0.1)"
      ]
     },
     "execution_count": 168,
     "metadata": {},
     "output_type": "execute_result"
    }
   ],
   "source": [
    "z_OpenLoop"
   ]
  },
  {
   "cell_type": "code",
   "execution_count": 169,
   "metadata": {},
   "outputs": [],
   "source": [
    "Ts= 0.1\n",
    "z = tf(\"z\")\n",
    "s = (z-1)/(Ts*z)"
   ]
  },
  {
   "cell_type": "code",
   "execution_count": 170,
   "metadata": {},
   "outputs": [
    {
     "data": {
      "text/latex": [
       "$$\\frac{z - 1}{0.1 z}$$"
      ],
      "text/plain": [
       "TransferFunction(array([ 1, -1]), array([0.1, 0. ]), True)"
      ]
     },
     "execution_count": 170,
     "metadata": {},
     "output_type": "execute_result"
    }
   ],
   "source": [
    "s"
   ]
  },
  {
   "cell_type": "code",
   "execution_count": 173,
   "metadata": {},
   "outputs": [],
   "source": [
    "SimpleMethod = 0.8*(1+s)/(1+0.0625*s)"
   ]
  },
  {
   "cell_type": "code",
   "execution_count": 174,
   "metadata": {},
   "outputs": [
    {
     "data": {
      "text/latex": [
       "$$\\frac{0.088 z^2 - 0.08 z}{0.01625 z^2 - 0.00625 z}$$"
      ],
      "text/plain": [
       "TransferFunction(array([ 0.088, -0.08 ,  0.   ]), array([ 0.01625, -0.00625,  0.     ]), True)"
      ]
     },
     "execution_count": 174,
     "metadata": {},
     "output_type": "execute_result"
    }
   ],
   "source": [
    "SimpleMethod"
   ]
  },
  {
   "cell_type": "code",
   "execution_count": 175,
   "metadata": {},
   "outputs": [],
   "source": [
    "TustinMethod = sample_system(LeadCompensator, Ts=0.1, method=\"tustin\")"
   ]
  },
  {
   "cell_type": "code",
   "execution_count": 176,
   "metadata": {},
   "outputs": [
    {
     "data": {
      "text/latex": [
       "$$\\frac{7.467 z - 6.756}{z - 0.1111}\\quad dt = 0.1$$"
      ],
      "text/plain": [
       "TransferFunction(array([ 7.46666667, -6.75555556]), array([ 1.        , -0.11111111]), 0.1)"
      ]
     },
     "execution_count": 176,
     "metadata": {},
     "output_type": "execute_result"
    }
   ],
   "source": [
    "TustinMethod"
   ]
  },
  {
   "cell_type": "code",
   "execution_count": 177,
   "metadata": {},
   "outputs": [],
   "source": [
    "t = np.arange(0.,5., 0.1)"
   ]
  },
  {
   "cell_type": "code",
   "execution_count": 178,
   "metadata": {},
   "outputs": [
    {
     "data": {
      "text/plain": [
       "array([0. , 0.1, 0.2, 0.3, 0.4, 0.5, 0.6, 0.7, 0.8, 0.9, 1. , 1.1, 1.2,\n",
       "       1.3, 1.4, 1.5, 1.6, 1.7, 1.8, 1.9, 2. , 2.1, 2.2, 2.3, 2.4, 2.5,\n",
       "       2.6, 2.7, 2.8, 2.9, 3. , 3.1, 3.2, 3.3, 3.4, 3.5, 3.6, 3.7, 3.8,\n",
       "       3.9, 4. , 4.1, 4.2, 4.3, 4.4, 4.5, 4.6, 4.7, 4.8, 4.9])"
      ]
     },
     "execution_count": 178,
     "metadata": {},
     "output_type": "execute_result"
    }
   ],
   "source": [
    "t"
   ]
  },
  {
   "cell_type": "code",
   "execution_count": 181,
   "metadata": {},
   "outputs": [],
   "source": [
    "SeriesCont = series(OpenLoop, LeadCompensator)"
   ]
  },
  {
   "cell_type": "code",
   "execution_count": 182,
   "metadata": {},
   "outputs": [
    {
     "data": {
      "text/latex": [
       "$$\\frac{16 s + 16}{0.0625 s^4 + 1.312 s^3 + 5 s^2}$$"
      ],
      "text/plain": [
       "TransferFunction(array([16., 16.]), array([0.0625, 1.3125, 5.    , 0.    , 0.    ]))"
      ]
     },
     "execution_count": 182,
     "metadata": {},
     "output_type": "execute_result"
    }
   ],
   "source": [
    "SeriesCont"
   ]
  },
  {
   "cell_type": "code",
   "execution_count": 183,
   "metadata": {},
   "outputs": [],
   "source": [
    "CLCont = feedback(SeriesCont)"
   ]
  },
  {
   "cell_type": "code",
   "execution_count": 184,
   "metadata": {},
   "outputs": [
    {
     "data": {
      "text/latex": [
       "$$\\frac{16 s + 16}{0.0625 s^4 + 1.312 s^3 + 5 s^2 + 16 s + 16}$$"
      ],
      "text/plain": [
       "TransferFunction(array([16., 16.]), array([ 0.0625,  1.3125,  5.    , 16.    , 16.    ]))"
      ]
     },
     "execution_count": 184,
     "metadata": {},
     "output_type": "execute_result"
    }
   ],
   "source": [
    "CLCont"
   ]
  },
  {
   "cell_type": "code",
   "execution_count": 185,
   "metadata": {},
   "outputs": [],
   "source": [
    "T, yout = step_response(CLCont, t)"
   ]
  },
  {
   "cell_type": "code",
   "execution_count": 186,
   "metadata": {},
   "outputs": [
    {
     "data": {
      "text/plain": [
       "[<matplotlib.lines.Line2D at 0x2485072b668>]"
      ]
     },
     "execution_count": 186,
     "metadata": {},
     "output_type": "execute_result"
    },
    {
     "data": {
      "image/png": "[encoded data removed]",
      "text/plain": [
       "<Figure size 432x288 with 1 Axes>"
      ]
     },
     "metadata": {
      "needs_background": "light"
     },
     "output_type": "display_data"
    }
   ],
   "source": [
    "plt.plot(yout)"
   ]
  },
  {
   "cell_type": "code",
   "execution_count": 187,
   "metadata": {},
   "outputs": [],
   "source": [
    "SimpleSeries = series(z_OpenLoop, SimpleMethod)"
   ]
  },
  {
   "cell_type": "code",
   "execution_count": 188,
   "metadata": {},
   "outputs": [
    {
     "data": {
      "text/latex": [
       "$$\\frac{0.00026 z^4 + 0.000686 z^3 - 0.000636 z^2 - 0.0001842 z}{0.01625 z^5 - 0.04861 z^4 + 0.05225 z^3 - 0.02369 z^2 + 0.003791 z}\\quad dt = 0.1$$"
      ],
      "text/plain": [
       "TransferFunction(array([ 0.00026005,  0.00068598, -0.00063595, -0.00018416,  0.        ]), array([ 0.01625   , -0.04860612,  0.05225306, -0.02368776,  0.00379082,\n",
       "        0.        ]), 0.1)"
      ]
     },
     "execution_count": 188,
     "metadata": {},
     "output_type": "execute_result"
    }
   ],
   "source": [
    "SimpleSeries"
   ]
  },
  {
   "cell_type": "code",
   "execution_count": 189,
   "metadata": {},
   "outputs": [],
   "source": [
    "#simple method\n",
    "SimpleClosedLoop = feedback(SimpleSeries)\n",
    "_, simple = step_response(SimpleClosedLoop, t)\n"
   ]
  },
  {
   "cell_type": "code",
   "execution_count": 190,
   "metadata": {},
   "outputs": [],
   "source": [
    "#tustin method\n",
    "TustinSeries = series(z_OpenLoop, TustinMethod)\n",
    "TustinClosedLoop = feedback(TustinSeries)\n",
    "_, tustin = step_response(TustinClosedLoop, t)"
   ]
  },
  {
   "cell_type": "code",
   "execution_count": 191,
   "metadata": {},
   "outputs": [
    {
     "data": {
      "text/plain": [
       "<matplotlib.legend.Legend at 0x24850950f60>"
      ]
     },
     "execution_count": 191,
     "metadata": {},
     "output_type": "execute_result"
    },
    {
     "data": {
      "image/png": "[encoded data removed]",
      "text/plain": [
       "<Figure size 432x288 with 1 Axes>"
      ]
     },
     "metadata": {
      "needs_background": "light"
     },
     "output_type": "display_data"
    }
   ],
   "source": [
    "plt.plot(yout, label=\"cont\")\n",
    "plt.plot(simple, label=\"simple\")\n",
    "plt.plot(tustin, label=\"tustin\")\n",
    "plt.legend()"
   ]
  },
  {
   "cell_type": "code",
   "execution_count": 192,
   "metadata": {},
   "outputs": [],
   "source": [
    "znum = TustinClosedLoop.num[0][0]\n",
    "zden = TustinClosedLoop.den[0][0]"
   ]
  },
  {
   "cell_type": "code",
   "execution_count": 193,
   "metadata": {},
   "outputs": [
    {
     "data": {
      "image/png": "[encoded data removed]",
      "text/plain": [
       "<Figure size 432x288 with 1 Axes>"
      ]
     },
     "metadata": {
      "needs_background": "light"
     },
     "output_type": "display_data"
    },
    {
     "data": {
      "text/plain": [
       "(array([-3.31175265,  0.9047619 , -0.23522389]),\n",
       " array([0.87642398+0.28145093j, 0.87642398-0.28145093j,\n",
       "        0.87261687+0.j        , 0.07011223+0.j        ]),\n",
       " 0.39047620350673506)"
      ]
     },
     "execution_count": 193,
     "metadata": {},
     "output_type": "execute_result"
    }
   ],
   "source": [
    "zplane(znum, zden)"
   ]
  },
  {
   "cell_type": "code",
   "execution_count": 195,
   "metadata": {},
   "outputs": [
    {
     "data": {
      "text/plain": [
       "(array([[-1.71559844e+01  +0.j        , -1.40427437e+00  +0.j        ,\n",
       "         -1.21987062e+00  -3.02290884j, -1.21987062e+00  +3.02290884j],\n",
       "        [-1.71559844e+01  +0.j        , -1.40427437e+00  +0.j        ,\n",
       "         -1.21987062e+00  -3.02290884j, -1.21987062e+00  +3.02290884j],\n",
       "        [-1.84387282e+01  +0.j        , -1.11202641e+00  +0.j        ,\n",
       "         -7.24622710e-01  -5.53504541j, -7.24622710e-01  +5.53504541j],\n",
       "        [-1.94493272e+01  +0.j        , -1.06525452e+00  +0.j        ,\n",
       "         -2.42709124e-01  -7.01886431j, -2.42709124e-01  +7.01886431j],\n",
       "        [-2.03002523e+01  +0.j        , -1.04605342e+00  +0.j        ,\n",
       "          1.73152881e-01  -8.13186438j,  1.73152881e-01  +8.13186438j],\n",
       "        [-2.10437107e+01  +0.j        , -1.03558690e+00  +0.j        ,\n",
       "          5.39648817e-01  -9.04136724j,  5.39648817e-01  +9.04136724j],\n",
       "        [-2.33885620e+01  +0.j        , -1.01864397e+00  +0.j        ,\n",
       "          1.70360301e+00 -11.68047508j,  1.70360301e+00 +11.68047508j],\n",
       "        [-2.51735697e+01  +0.j        , -1.01263120e+00  +0.j        ,\n",
       "          2.59310043e+00 -13.5495825j ,  2.59310043e+00 +13.5495825j ],\n",
       "        [-2.66490429e+01  +0.j        , -1.00955106e+00  +0.j        ,\n",
       "          3.32929697e+00 -15.03926721j,  3.32929697e+00 +15.03926721j],\n",
       "        [-2.79229451e+01  +0.j        , -1.00767865e+00  +0.j        ,\n",
       "          3.96531185e+00 -16.29652835j,  3.96531185e+00 +16.29652835j],\n",
       "        [-2.90530822e+01  +0.j        , -1.00642005e+00  +0.j        ,\n",
       "          4.52975114e+00 -17.39442093j,  4.52975114e+00 +17.39442093j],\n",
       "        [-3.00745011e+01  +0.j        , -1.00551595e+00  +0.j        ,\n",
       "          5.04000854e+00 -18.37511977j,  5.04000854e+00 +18.37511977j],\n",
       "        [-3.10102631e+01  +0.j        , -1.00483505e+00  +0.j        ,\n",
       "          5.50754906e+00 -19.26541334j,  5.50754906e+00 +19.26541334j],\n",
       "        [-3.18764548e+01  +0.j        , -1.00430379e+00  +0.j        ,\n",
       "          5.94037929e+00 -20.08349083j,  5.94037929e+00 +20.08349083j],\n",
       "        [-3.26848008e+01  +0.j        , -1.00387772e+00  +0.j        ,\n",
       "          6.34433926e+00 -20.8423278j ,  6.34433926e+00 +20.8423278j ],\n",
       "        [-3.34441436e+01  +0.j        , -1.00352841e+00  +0.j        ,\n",
       "          6.72383598e+00 -21.55153995j,  6.72383598e+00 +21.55153995j],\n",
       "        [-3.41613374e+01  +0.j        , -1.00323683e+00  +0.j        ,\n",
       "          7.08228713e+00 -22.2184725j ,  7.08228713e+00 +22.2184725j ],\n",
       "        [-3.48418168e+01  +0.j        , -1.00298976e+00  +0.j        ,\n",
       "          7.42240329e+00 -22.84887666j,  7.42240329e+00 +22.84887666j],\n",
       "        [-3.54899723e+01  +0.j        , -1.00277774e+00  +0.j        ,\n",
       "          7.74637502e+00 -23.44734898j,  7.74637502e+00 +23.44734898j],\n",
       "        [-3.61094082e+01  +0.j        , -1.00259380e+00  +0.j        ,\n",
       "          8.05600100e+00 -24.01762747j,  8.05600100e+00 +24.01762747j],\n",
       "        [-3.67031244e+01  +0.j        , -1.00243270e+00  +0.j        ,\n",
       "          8.35277857e+00 -24.56279742j,  8.35277857e+00 +24.56279742j],\n",
       "        [-3.72736478e+01  +0.j        , -1.00229045e+00  +0.j        ,\n",
       "          8.63796913e+00 -25.0854383j ,  8.63796913e+00 +25.0854383j ],\n",
       "        [-3.78231291e+01  +0.j        , -1.00216391e+00  +0.j        ,\n",
       "          8.91264650e+00 -25.58773107j,  8.91264650e+00 +25.58773107j],\n",
       "        [-3.83534159e+01  +0.j        , -1.00205063e+00  +0.j        ,\n",
       "          9.17773329e+00 -26.07153809j,  9.17773329e+00 +26.07153809j],\n",
       "        [-3.88661089e+01  +0.j        , -1.00194861e+00  +0.j        ,\n",
       "          9.43402874e+00 -26.53846375j,  9.43402874e+00 +26.53846375j],\n",
       "        [-3.93626045e+01  +0.j        , -1.00185626e+00  +0.j        ,\n",
       "          9.68223040e+00 -26.9899011j ,  9.68223040e+00 +26.9899011j ],\n",
       "        [-3.98441299e+01  +0.j        , -1.00177227e+00  +0.j        ,\n",
       "          9.92295107e+00 -27.42706828j,  9.92295107e+00 +27.42706828j],\n",
       "        [-4.03117693e+01  +0.j        , -1.00169556e+00  +0.j        ,\n",
       "          1.01567324e+01 -27.85103734j,  1.01567324e+01 +27.85103734j],\n",
       "        [-4.07664864e+01  +0.j        , -1.00162521e+00  +0.j        ,\n",
       "          1.03840558e+01 -28.26275729j,  1.03840558e+01 +28.26275729j],\n",
       "        [-4.12091421e+01  +0.j        , -1.00156046e+00  +0.j        ,\n",
       "          1.06053513e+01 -28.66307263j,  1.06053513e+01 +28.66307263j],\n",
       "        [-4.16405086e+01  +0.j        , -1.00150067e+00  +0.j        ,\n",
       "          1.08210046e+01 -29.05273861j,  1.08210046e+01 +29.05273861j],\n",
       "        [-4.20612820e+01  +0.j        , -1.00144530e+00  +0.j        ,\n",
       "          1.10313636e+01 -29.43243364j,  1.10313636e+01 +29.43243364j],\n",
       "        [-4.24720918e+01  +0.j        , -1.00139387e+00  +0.j        ,\n",
       "          1.12367429e+01 -29.80276963j,  1.12367429e+01 +29.80276963j],\n",
       "        [-4.28735100e+01  +0.j        , -1.00134597e+00  +0.j        ,\n",
       "          1.14374280e+01 -30.16430067j,  1.14374280e+01 +30.16430067j],\n",
       "        [-4.32660573e+01  +0.j        , -1.00130126e+00  +0.j        ,\n",
       "          1.16336793e+01 -30.51753023j,  1.16336793e+01 +30.51753023j],\n",
       "        [-4.36502098e+01  +0.j        , -1.00125942e+00  +0.j        ,\n",
       "          1.18257346e+01 -30.86291734j,  1.18257346e+01 +30.86291734j],\n",
       "        [-4.40264039e+01  +0.j        , -1.00122018e+00  +0.j        ,\n",
       "          1.20138121e+01 -31.20088178j,  1.20138121e+01 +31.20088178j],\n",
       "        [-4.43950409e+01  +0.j        , -1.00118332e+00  +0.j        ,\n",
       "          1.21981121e+01 -31.53180855j,  1.21981121e+01 +31.53180855j],\n",
       "        [-4.47564903e+01  +0.j        , -1.00114862e+00  +0.j        ,\n",
       "          1.23788194e+01 -31.85605172j,  1.23788194e+01 +31.85605172j],\n",
       "        [-4.51110937e+01  +0.j        , -1.00111590e+00  +0.j        ,\n",
       "          1.25561048e+01 -32.17393773j,  1.25561048e+01 +32.17393773j],\n",
       "        [-4.54591673e+01  +0.j        , -1.00108499e+00  +0.j        ,\n",
       "          1.27301261e+01 -32.4857683j ,  1.27301261e+01 +32.4857683j ],\n",
       "        [-4.58010046e+01  +0.j        , -1.00105574e+00  +0.j        ,\n",
       "          1.29010302e+01 -32.79182288j,  1.29010302e+01 +32.79182288j],\n",
       "        [-4.61368785e+01  +0.j        , -1.00102803e+00  +0.j        ,\n",
       "          1.30689533e+01 -33.09236088j,  1.30689533e+01 +33.09236088j],\n",
       "        [-4.64670433e+01  +0.j        , -1.00100174e+00  +0.j        ,\n",
       "          1.32340225e+01 -33.38762358j,  1.32340225e+01 +33.38762358j],\n",
       "        [-4.67917361e+01  +0.j        , -1.00097676e+00  +0.j        ,\n",
       "          1.33963564e+01 -33.67783585j,  1.33963564e+01 +33.67783585j],\n",
       "        [-4.71111790e+01  +0.j        , -1.00095300e+00  +0.j        ,\n",
       "          1.35560660e+01 -33.96320762j,  1.35560660e+01 +33.96320762j],\n",
       "        [-4.74255797e+01  +0.j        , -1.00093036e+00  +0.j        ,\n",
       "          1.37132550e+01 -34.2439352j ,  1.37132550e+01 +34.2439352j ],\n",
       "        [-4.77351331e+01  +0.j        , -1.00090878e+00  +0.j        ,\n",
       "          1.38680209e+01 -34.5202025j ,  1.38680209e+01 +34.5202025j ],\n",
       "        [-4.80400224e+01  +0.j        , -1.00088817e+00  +0.j        ,\n",
       "          1.40204553e+01 -34.79218207j,  1.40204553e+01 +34.79218207j],\n",
       "        [-4.83404199e+01  +0.j        , -1.00086848e+00  +0.j        ,\n",
       "          1.41706442e+01 -35.06003601j,  1.41706442e+01 +35.06003601j],\n",
       "        [-4.86364879e+01  +0.j        , -1.00084964e+00  +0.j        ,\n",
       "          1.43186688e+01 -35.32391687j,  1.43186688e+01 +35.32391687j],\n",
       "        [-4.89283795e+01  +0.j        , -1.00083160e+00  +0.j        ,\n",
       "          1.44646055e+01 -35.58396838j,  1.44646055e+01 +35.58396838j],\n",
       "        [-4.92162393e+01  +0.j        , -1.00081431e+00  +0.j        ,\n",
       "          1.46085268e+01 -35.84032612j,  1.46085268e+01 +35.84032612j],\n",
       "        [-4.95002041e+01  +0.j        , -1.00079773e+00  +0.j        ,\n",
       "          1.47505009e+01 -36.09311818j,  1.47505009e+01 +36.09311818j],\n",
       "        [-9.78309861e+01  +0.j        , -1.00007992e+00  +0.j        ,\n",
       "          3.89155330e+01 -78.48483744j,  3.89155330e+01 +78.48483744j],\n",
       "        [-2.02589342e+02  +0.j        , -1.00000799e+00  +0.j        ,\n",
       "          9.12946751e+01-169.4577779j ,  9.12946751e+01+169.4577779j ],\n",
       "        [-4.28551707e+02  +0.j        , -1.00000080e+00  +0.j        ,\n",
       "          2.04275854e+02-365.26279214j,  2.04275854e+02+365.26279214j]]),\n",
       " array([0.00000000e+00, 0.00000000e+00, 1.49590881e+00, 2.99181763e+00,\n",
       "        4.48772644e+00, 5.98363526e+00, 1.19672705e+01, 1.79509058e+01,\n",
       "        2.39345410e+01, 2.99181763e+01, 3.59018115e+01, 4.18854468e+01,\n",
       "        4.78690820e+01, 5.38527173e+01, 5.98363526e+01, 6.58199878e+01,\n",
       "        7.18036231e+01, 7.77872583e+01, 8.37708936e+01, 8.97545288e+01,\n",
       "        9.57381641e+01, 1.01721799e+02, 1.07705435e+02, 1.13689070e+02,\n",
       "        1.19672705e+02, 1.25656340e+02, 1.31639976e+02, 1.37623611e+02,\n",
       "        1.43607246e+02, 1.49590881e+02, 1.55574517e+02, 1.61558152e+02,\n",
       "        1.67541787e+02, 1.73525422e+02, 1.79509058e+02, 1.85492693e+02,\n",
       "        1.91476328e+02, 1.97459963e+02, 2.03443599e+02, 2.09427234e+02,\n",
       "        2.15410869e+02, 2.21394504e+02, 2.27378140e+02, 2.33361775e+02,\n",
       "        2.39345410e+02, 2.45329046e+02, 2.51312681e+02, 2.57296316e+02,\n",
       "        2.63279951e+02, 2.69263587e+02, 2.75247222e+02, 2.81230857e+02,\n",
       "        2.87214492e+02, 2.93198128e+02, 2.93198128e+03, 2.93198128e+04,\n",
       "        2.93198128e+05]))"
      ]
     },
     "execution_count": 195,
     "metadata": {},
     "output_type": "execute_result"
    },
    {
     "data": {
      "image/png": "[encoded data removed]",
      "text/plain": [
       "<Figure size 432x288 with 1 Axes>"
      ]
     },
     "metadata": {
      "needs_background": "light"
     },
     "output_type": "display_data"
    }
   ],
   "source": [
    "rlocus(CLCont)"
   ]
  },
  {
   "cell_type": "code",
   "execution_count": null,
   "metadata": {},
   "outputs": [],
   "source": []
  }
 ],
 "metadata": {
  "kernelspec": {
   "display_name": "Python 3",
   "language": "python",
   "name": "python3"
  },
  "language_info": {
   "codemirror_mode": {
    "name": "ipython",
    "version": 3
   },
   "file_extension": ".py",
   "mimetype": "text/x-python",
   "name": "python",
   "nbconvert_exporter": "python",
   "pygments_lexer": "ipython3",
   "version": "3.6.6"
  }
 },
 "nbformat": 4,
 "nbformat_minor": 4
}
